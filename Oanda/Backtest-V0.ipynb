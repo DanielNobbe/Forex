{
 "cells": [
  {
   "cell_type": "code",
   "execution_count": 4,
   "metadata": {},
   "outputs": [],
   "source": [
    "from oandapyV20 import API\n",
    "from oandapyV20.exceptions import V20Error\n",
    "import oandapyV20.endpoints.instruments as instruments\n",
    "from oandapyV20.definitions.instruments import CandlestickGranularity\n",
    "\n",
    "import datetime\n",
    "import matplotlib.pyplot as plt\n"
   ]
  },
  {
   "cell_type": "markdown",
   "metadata": {},
   "source": [
    "## Backtesting\n",
    "In this notebook, we set up the basic structure of testing the algorithm. \\\n",
    "The algorithm basically works as follows: \\\n",
    "<ins>Inputs:</ins> \n",
    "- A history of an instrument, consisting of:\n",
    "    - Historical values, and\n",
    "    - their timestamps\n",
    "- The current value of the same instrument,\n",
    "    - Including timestamp\n",
    "- boolean value for current ownership of the quote currency\n",
    "\n",
    "<ins>Outputs:</ins>\n",
    "- Prediction whether value will go up/down\n",
    "- and/or prediction whether quote currency should be bought/sold/kept with base currency (the algorithm should do the trading end-to-end, so use both) (kept means no buying nor selling)"
   ]
  },
  {
   "cell_type": "code",
   "execution_count": 3,
   "metadata": {},
   "outputs": [],
   "source": [
    "# Use a default set of historical values for now (from History.ipynb)\n",
    "\n",
    "# Helper function to convert datetime string to datetime object\n",
    "def to_datetime(t):\n",
    "    return datetime.datetime.strptime(t[0:-4], '%Y-%m-%dT%H:%M:%S.%f') \n",
    "# granularities = CandlestickGranularity().definitions.keys()\n",
    "# Define parameters\n",
    "granularity = 'M2'\n",
    "From = \"2018-01-01\"\n",
    "To = \"2020-01-01\"\n",
    "i = 'EUR_USD' # Instrument - first is base currency, second quote currency\n",
    "                                # I think base should always be EUR for this acct\n",
    "params = {\n",
    "    'from': From,\n",
    "    'to': To,\n",
    "    'granularity': 'M',\n",
    "}\n",
    "# Compile request\n",
    "r = instruments.InstrumentsCandles(instrument=i, params=params)\n",
    "\n",
    "# Define API with our access token (for demo acct)\n",
    "api = API(access_token='378d83764609aa3a4eb262663b7c02ef-482ed5696d2a3cede7fca4aa7ded1c76')\n",
    "\n",
    "# Request candles\n",
    "rv = api.request(r)\n",
    "\n",
    "history = [float(candle['mid']['c']) for candle in rv['candles']] # center? values\n",
    "timestamps = [to_datetime(candle['time']).timestamp() for candle in rv['candles']] # time values\n",
    "# dates = [to_datetime(candle['time']).date() for candle in rv['candles']]\n",
    "\n",
    "current_value = 1.23400\n",
    "current_timestamp = 2*timestamp[-1] - timestamp[-2] # Use spacing betw two timestamps and add to last one"
   ]
  },
  {
   "cell_type": "code",
   "execution_count": null,
   "metadata": {},
   "outputs": [],
   "source": [
    "class History():\n",
    "    def __init__(self, values, timestamps):\n",
    "        self.values = values\n",
    "        self.timestamps = timestamps\n",
    "        \n"
   ]
  },
  {
   "cell_type": "code",
   "execution_count": null,
   "metadata": {},
   "outputs": [],
   "source": []
  }
 ],
 "metadata": {
  "kernelspec": {
   "display_name": "Python 3",
   "language": "python",
   "name": "python3"
  },
  "language_info": {
   "codemirror_mode": {
    "name": "ipython",
    "version": 3
   },
   "file_extension": ".py",
   "mimetype": "text/x-python",
   "name": "python",
   "nbconvert_exporter": "python",
   "pygments_lexer": "ipython3",
   "version": "3.8.5"
  }
 },
 "nbformat": 4,
 "nbformat_minor": 4
}
