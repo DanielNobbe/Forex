{
 "cells": [
  {
   "cell_type": "code",
   "execution_count": 7,
   "metadata": {},
   "outputs": [],
   "source": [
    "from oandapyV20 import API\n",
    "from oandapyV20.exceptions import V20Error\n",
    "import oandapyV20.endpoints.instruments as instruments\n",
    "from oandapyV20.definitions.instruments import CandlestickGranularity\n",
    "\n",
    "import datetime\n",
    "import matplotlib.pyplot as plt\n"
   ]
  },
  {
   "cell_type": "code",
   "execution_count": 8,
   "metadata": {},
   "outputs": [],
   "source": [
    "# Helper function to convert datetime string to datetime object\n",
    "def to_datetime(t):\n",
    "    return datetime.datetime.strptime(t[0:-4], '%Y-%m-%dT%H:%M:%S.%f') \n",
    "\n",
    "\n",
    "# TODO: Check how current timestep looks "
   ]
  },
  {
   "cell_type": "code",
   "execution_count": 31,
   "metadata": {},
   "outputs": [],
   "source": [
    "# granularities = CandlestickGranularity().definitions.keys()\n",
    "# Define parameters\n",
    "granularity = 'M2'\n",
    "From = \"2020-10-20\"\n",
    "To = \"2020-10-25\"\n",
    "i = 'EUR_USD' # Instrument - first is base currency, second quote currency\n",
    "                                # I think base should always be EUR for this acct\n",
    "params = {\n",
    "    'from': From,\n",
    "    'to': To,\n",
    "    'granularity': 'H2',\n",
    "}\n",
    "# Compile request\n",
    "r = instruments.InstrumentsCandles(instrument=i, params=params)\n",
    "\n",
    "# Define API with our access token (for demo acct)\n",
    "api = API(access_token='378d83764609aa3a4eb262663b7c02ef-482ed5696d2a3cede7fca4aa7ded1c76')\n",
    "\n",
    "# Request candles\n",
    "rv = api.request(r)"
   ]
  },
  {
   "cell_type": "code",
   "execution_count": 32,
   "metadata": {},
   "outputs": [
    {
     "name": "stdout",
     "output_type": "stream",
     "text": [
      "dict_keys(['instrument', 'granularity', 'candles'])\n",
      "dict_keys(['complete', 'volume', 'time', 'mid'])\n",
      "dict_keys(['o', 'h', 'l', 'c'])\n",
      "{'o': '1.17772', 'h': '1.17806', 'l': '1.17667', 'c': '1.17672'}\n",
      "{'complete': True, 'volume': 2623, 'time': '2020-10-23T19:00:00.000000000Z', 'mid': {'o': '1.18584', 'h': '1.18650', 'l': '1.18568', 'c': '1.18612'}}\n",
      "1845\n",
      "True\n"
     ]
    }
   ],
   "source": [
    "print(rv.keys())\n",
    "print(rv['candles'][0].keys())\n",
    "print(rv['candles'][0]['mid'].keys())\n",
    "print(rv['candles'][1]['mid'])\n",
    "print(rv['candles'][-1])\n",
    "print(rv['candles'][0]['volume'])\n",
    "print(rv['candles'][0]['complete'])"
   ]
  },
  {
   "cell_type": "code",
   "execution_count": 5,
   "metadata": {},
   "outputs": [
    {
     "name": "stdout",
     "output_type": "stream",
     "text": [
      "[1.24138, 1.21946, 1.23241, 1.2079, 1.16941, 1.16847, 1.16908, 1.16019, 1.16027, 1.13117, 1.13159, 1.14649, 1.14474, 1.13706, 1.12178, 1.12151, 1.11688, 1.13721, 1.10766, 1.09905, 1.08986, 1.11514, 1.10191, 1.1212, 1.10945]\n",
      "[1514754000.0, 1517432400.0, 1519851600.0, 1522522800.0, 1525114800.0, 1527793200.0, 1530385200.0, 1533063600.0, 1535742000.0, 1538334000.0, 1541016000.0, 1543611600.0, 1546290000.0, 1548968400.0, 1551387600.0, 1554058800.0, 1556650800.0, 1559329200.0, 1561921200.0, 1564599600.0, 1567278000.0, 1569870000.0, 1572552000.0, 1575147600.0, 1577826000.0]\n"
     ]
    }
   ],
   "source": [
    "# Extract c values from the candles, and corresponding timestamps\n",
    "# Not sure what the c value means, see above\n",
    "\n",
    "c = [float(candle['mid']['c']) for candle in rv['candles']] # center? values\n",
    "t = [to_datetime(candle['time']).timestamp() for candle in rv['candles']] # time values\n",
    "dates = [to_datetime(candle['time']).date() for candle in rv['candles']]\n",
    "print(c)\n",
    "print(t)"
   ]
  },
  {
   "cell_type": "code",
   "execution_count": 6,
   "metadata": {},
   "outputs": [
    {
     "data": {
      "image/png": "[encoded data removed]",
      "text/plain": [
       "<Figure size 864x432 with 1 Axes>"
      ]
     },
     "metadata": {
      "needs_background": "light"
     },
     "output_type": "display_data"
    }
   ],
   "source": [
    "# Simple plot\n",
    "\n",
    "plt.figure(figsize=[12,6])\n",
    "plt.plot(dates,c)\n",
    "plt.title(\"EUR_USD\")\n",
    "plt.show()"
   ]
  },
  {
   "cell_type": "code",
   "execution_count": null,
   "metadata": {},
   "outputs": [],
   "source": []
  },
  {
   "cell_type": "code",
   "execution_count": null,
   "metadata": {},
   "outputs": [],
   "source": []
  }
 ],
 "metadata": {
  "kernelspec": {
   "display_name": "Python 3",
   "language": "python",
   "name": "python3"
  },
  "language_info": {
   "codemirror_mode": {
    "name": "ipython",
    "version": 3
   },
   "file_extension": ".py",
   "mimetype": "text/x-python",
   "name": "python",
   "nbconvert_exporter": "python",
   "pygments_lexer": "ipython3",
   "version": "3.8.5"
  }
 },
 "nbformat": 4,
 "nbformat_minor": 4
}
