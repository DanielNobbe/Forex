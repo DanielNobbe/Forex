{
 "cells": [
  {
   "cell_type": "code",
   "execution_count": 2,
   "metadata": {},
   "outputs": [],
   "source": [
    "gran_to_sec = {\n",
    "    \"S5\": 5,\n",
    "    \"S10\": 10,\n",
    "    \"S15\": 15,\n",
    "    \"S30\": 30,\n",
    "    \"M1\": 60,\n",
    "    \"M2\": 120,\n",
    "    \"M4\": 240,\n",
    "    \"M5\": 300,\n",
    "    \"M10\": 600,\n",
    "    \"M15\": 900,\n",
    "    \"M30\": 1800,\n",
    "    \"H1\": 3600,\n",
    "    \"H2\": 7200,\n",
    "    \"H3\": 10800,\n",
    "    \"H4\": 14400,\n",
    "    \"H6\": 21600,\n",
    "    \"H8\": 28800,\n",
    "    \"H12\": 43200,\n",
    "    \"D\": 86400,\n",
    "    \"W\": 604800,\n",
    "    \"D30\": 2592000, # Months do not always have the same number of seconds\n",
    "    # \"M\": \"1 month candlesticks, aligned to first day of the month\",\n",
    "}"
   ]
  },
  {
   "cell_type": "code",
   "execution_count": 8,
   "metadata": {},
   "outputs": [],
   "source": [
    "\n",
    "\n",
    "def create_dt(dt_dict):\n",
    "    # Creates dt_settings list from \n",
    "    # cfg specification, for use with retrieve_for_inference\n",
    "    granularity = gran_to_sec[dt_dict['granularity']]\n",
    "    no_samples = dt_dict['no_samples']\n",
    "    dt_settings = [granularity*index for index in range(no_samples, 0, -1)]\n",
    "    return dt_settings\n",
    "    # One sample needs to be now\n"
   ]
  },
  {
   "cell_type": "code",
   "execution_count": 9,
   "metadata": {},
   "outputs": [
    {
     "name": "stdout",
     "output_type": "stream",
     "text": [
      "[259200, 172800, 86400]\n"
     ]
    }
   ],
   "source": [
    "dt_dict = {\n",
    "    'granularity': 'D',\n",
    "    'no_samples': 3,\n",
    "}\n",
    "settings = create_dt(dt_dict)\n",
    "print(settings)"
   ]
  },
  {
   "cell_type": "code",
   "execution_count": 7,
   "metadata": {},
   "outputs": [
    {
     "data": {
      "text/plain": "[]"
     },
     "execution_count": 7,
     "metadata": {},
     "output_type": "execute_result"
    }
   ],
   "source": [
    "list(range(3,0))\n"
   ]
  }
 ],
 "metadata": {
  "kernelspec": {
   "display_name": "Python 3",
   "language": "python",
   "name": "python3"
  },
  "language_info": {
   "codemirror_mode": {
    "name": "ipython",
    "version": 3
   },
   "file_extension": ".py",
   "mimetype": "text/x-python",
   "name": "python",
   "nbconvert_exporter": "python",
   "pygments_lexer": "ipython3",
   "version": "3.9.2"
  },
  "orig_nbformat": 2
 },
 "nbformat": 4,
 "nbformat_minor": 2
}